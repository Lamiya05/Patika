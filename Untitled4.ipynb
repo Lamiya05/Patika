{
  "nbformat": 4,
  "nbformat_minor": 0,
  "metadata": {
    "colab": {
      "provenance": [],
      "authorship_tag": "ABX9TyMR0QvEr7u4xohFDrCrvu5u",
      "include_colab_link": true
    },
    "kernelspec": {
      "name": "python3",
      "display_name": "Python 3"
    },
    "language_info": {
      "name": "python"
    }
  },
  "cells": [
    {
      "cell_type": "markdown",
      "metadata": {
        "id": "view-in-github",
        "colab_type": "text"
      },
      "source": [
        "<a href=\"https://colab.research.google.com/github/Lamiya05/Patika/blob/main/Untitled4.ipynb\" target=\"_parent\"><img src=\"https://colab.research.google.com/assets/colab-badge.svg\" alt=\"Open In Colab\"/></a>"
      ]
    },
    {
      "cell_type": "code",
      "execution_count": 48,
      "metadata": {
        "colab": {
          "base_uri": "https://localhost:8080/"
        },
        "id": "21-Ib7YP3nVl",
        "outputId": "0d90ea84-db8e-4ab9-de03-a90bede2df35"
      },
      "outputs": [
        {
          "output_type": "stream",
          "name": "stdout",
          "text": [
            "123\n",
            "<class 'str'>\n"
          ]
        }
      ],
      "source": [
        "#1) 123 rəqəmini string/character ə çevirin və tipini yoxlayın.\n",
        "a=123\n",
        "string_a=str(a)\n",
        "print(string_a)\n",
        "print(type(string_a))"
      ]
    },
    {
      "cell_type": "code",
      "source": [
        "#2) 19.99 dəyərini tam ədədə çevirin və nəticəni çap edin.\n",
        "dec = 19.99\n",
        "int_num = int(dec)\n",
        "print(int_num)"
      ],
      "metadata": {
        "colab": {
          "base_uri": "https://localhost:8080/"
        },
        "id": "ENx7DhRA4Lov",
        "outputId": "235cacb2-3f70-4530-8802-def8884eeec7"
      },
      "execution_count": 49,
      "outputs": [
        {
          "output_type": "stream",
          "name": "stdout",
          "text": [
            "19\n"
          ]
        }
      ]
    },
    {
      "cell_type": "code",
      "source": [
        "#3) \"500\" dəyərini numericə çevirin və 2-yə bölüb nəticəni çap edin.\n",
        "a = \"500\"\n",
        "b = int(a)\n",
        "result = b / 2\n",
        "print(result)"
      ],
      "metadata": {
        "colab": {
          "base_uri": "https://localhost:8080/"
        },
        "id": "0x4sSCFs5FBC",
        "outputId": "570cb748-b56e-40d2-a3d0-3900bb00c7c9"
      },
      "execution_count": 50,
      "outputs": [
        {
          "output_type": "stream",
          "name": "stdout",
          "text": [
            "250.0\n"
          ]
        }
      ]
    },
    {
      "cell_type": "code",
      "source": [
        "#4) a = 8 və b = 12 yaradın. a < b və a == b şərtlərini yoxlayın, nəticələri çap edin.\n",
        "a = 8\n",
        "b = 12\n",
        "R1 = a < b\n",
        "R2 = a == b\n",
        "print(\"a < b : \", R1)\n",
        "print(\"a == b : \", R2)"
      ],
      "metadata": {
        "colab": {
          "base_uri": "https://localhost:8080/"
        },
        "id": "3u5GGC6u5ua2",
        "outputId": "09371188-c5a7-4f17-e73e-1df970da550f"
      },
      "execution_count": 51,
      "outputs": [
        {
          "output_type": "stream",
          "name": "stdout",
          "text": [
            "a < b :  True\n",
            "a == b :  False\n"
          ]
        }
      ]
    },
    {
      "cell_type": "code",
      "source": [
        "#5) x = 5, y = 10, z = 15 yaradın. (x < y) and (y < z) şərtini yoxlayın və nəticəni çap edin.\n",
        "x = 5\n",
        "y = 10\n",
        "z = 15\n",
        "result = (x < y) and (y < z)\n",
        "print(result)"
      ],
      "metadata": {
        "colab": {
          "base_uri": "https://localhost:8080/"
        },
        "id": "RtEHm_N_7FCC",
        "outputId": "b1d4fd7c-53de-40cb-9698-dc4357a56b20"
      },
      "execution_count": 52,
      "outputs": [
        {
          "output_type": "stream",
          "name": "stdout",
          "text": [
            "True\n"
          ]
        }
      ]
    },
    {
      "cell_type": "code",
      "source": [
        "#6) 25-i 4-ə bölün. Tam bölmə, qalıq və adi bölmə nəticələrini çap edin.\n",
        "a = 25\n",
        "b = 4\n",
        "tam = a // b\n",
        "qaliq = a % b\n",
        "adi = a / b\n",
        "print(\"Tam bölmə:\", tam)\n",
        "print(\"Qalıq:\", qaliq)\n",
        "print(\"Adi bölmə:\", adi)"
      ],
      "metadata": {
        "colab": {
          "base_uri": "https://localhost:8080/"
        },
        "id": "BYMyae_v7j9l",
        "outputId": "c53dbe21-1556-4bef-ebfe-70755c2c2f9b"
      },
      "execution_count": 53,
      "outputs": [
        {
          "output_type": "stream",
          "name": "stdout",
          "text": [
            "Tam bölmə: 6\n",
            "Qalıq: 1\n",
            "Adi bölmə: 6.25\n"
          ]
        }
      ]
    },
    {
      "cell_type": "code",
      "source": [
        "#7) 3-ü 4-cü dərəcəyə qaldırın və nəticəni çap edin.\n",
        "print(3**4)"
      ],
      "metadata": {
        "colab": {
          "base_uri": "https://localhost:8080/"
        },
        "id": "llah8JF68E0n",
        "outputId": "563bf110-b02c-45f2-b594-2f8619ef9082"
      },
      "execution_count": 54,
      "outputs": [
        {
          "output_type": "stream",
          "name": "stdout",
          "text": [
            "81\n"
          ]
        }
      ]
    },
    {
      "cell_type": "code",
      "source": [
        "#8) qiymet = 75.5 yaradın. Onu tam ədədə çevirin və tipini yoxlayın.\n",
        "qiymet = 75.5\n",
        "tam = int(qiymet)\n",
        "print(tam)\n",
        "print(type(tam))"
      ],
      "metadata": {
        "colab": {
          "base_uri": "https://localhost:8080/"
        },
        "id": "FHEFmHwc8RVJ",
        "outputId": "46c2162b-b4b1-4887-f71f-e0207afd892b"
      },
      "execution_count": 55,
      "outputs": [
        {
          "output_type": "stream",
          "name": "stdout",
          "text": [
            "75\n",
            "<class 'int'>\n"
          ]
        }
      ]
    },
    {
      "cell_type": "code",
      "source": [
        "#9) n = 20 yaradın. (n > 10) or (n < 5) və (n > 15) and (n < 25) şərtlərini yoxlayın, nəticələri çap edin.\n",
        "n = 20\n",
        "r1 = (n > 10) or (n < 5)\n",
        "r2 = (n > 15) and (n < 25)\n",
        "print(\" n > 10 or n < 5:\", r1)\n",
        "print(\" n > 15 and n < 25:\", r2)"
      ],
      "metadata": {
        "colab": {
          "base_uri": "https://localhost:8080/"
        },
        "id": "MnTocPJ2-w1w",
        "outputId": "3ba0b43a-2f38-408e-808c-ec6d17809b8e"
      },
      "execution_count": 56,
      "outputs": [
        {
          "output_type": "stream",
          "name": "stdout",
          "text": [
            " n > 10 or n < 5: True\n",
            " n > 15 and n < 25: True\n"
          ]
        }
      ]
    },
    {
      "cell_type": "code",
      "source": [
        "#10) \"42.8\" dəyərini əvvəl float-a, sonra tam ədədə çevirin və hər addımda tipi yoxlayın.\n",
        "a = \"42.8\"\n",
        "float_a = float(a)\n",
        "print(float_a)\n",
        "print(type(float_a))\n",
        "\n",
        "integer_a = int(float_a)\n",
        "print(integer_a)\n",
        "print(type(integer_a))"
      ],
      "metadata": {
        "colab": {
          "base_uri": "https://localhost:8080/"
        },
        "id": "Wj3w0Qj9_Y2j",
        "outputId": "346c044f-38a6-4a26-89ea-5474aa511ac7"
      },
      "execution_count": 57,
      "outputs": [
        {
          "output_type": "stream",
          "name": "stdout",
          "text": [
            "42.8\n",
            "<class 'float'>\n",
            "42\n",
            "<class 'int'>\n"
          ]
        }
      ]
    },
    {
      "cell_type": "code",
      "source": [
        "#1) s = \"Programming\" yaradın. Uzunluğunu və ilk simvolunu çap edin.\n",
        "s = \"Programming\"\n",
        "print(len(s))\n",
        "print(s[0])"
      ],
      "metadata": {
        "colab": {
          "base_uri": "https://localhost:8080/"
        },
        "id": "-C-dcgvUAJSw",
        "outputId": "88053ba8-a2f4-4f44-9fbc-52927b92974f"
      },
      "execution_count": 58,
      "outputs": [
        {
          "output_type": "stream",
          "name": "stdout",
          "text": [
            "11\n",
            "P\n"
          ]
        }
      ]
    },
    {
      "cell_type": "code",
      "source": [
        "#2)s1 = \"Hello\" və s2 = \"World\" yaradın. Onları boşluqla birləşdirin və nəticəni çap edin.\n",
        "s1 = \"Hello\"\n",
        "s2 = \"World\"\n",
        "print(s1 + \" \" + s2)"
      ],
      "metadata": {
        "colab": {
          "base_uri": "https://localhost:8080/"
        },
        "id": "cXohUv-YAspI",
        "outputId": "b2a21a84-21c7-46ad-f5d1-ba0ac07c90a2"
      },
      "execution_count": 59,
      "outputs": [
        {
          "output_type": "stream",
          "name": "stdout",
          "text": [
            "Hello World\n"
          ]
        }
      ]
    },
    {
      "cell_type": "code",
      "source": [
        "#3)text = \"Python\" yaradın. Son simvolunu çap edin.\n",
        "text = \"Python\"\n",
        "print(text[-1])"
      ],
      "metadata": {
        "colab": {
          "base_uri": "https://localhost:8080/"
        },
        "id": "8S_Tp7PaA5p6",
        "outputId": "2f0824e7-1da2-47ca-be04-6c936394266f"
      },
      "execution_count": 60,
      "outputs": [
        {
          "output_type": "stream",
          "name": "stdout",
          "text": [
            "n\n"
          ]
        }
      ]
    },
    {
      "cell_type": "code",
      "source": [
        "#4)s = \"Artificial\" yaradın. \"Art\" hissəsini ilə çıxarın və çap edin.\n",
        "s = \"Artificial\"\n",
        "print(s[3:])"
      ],
      "metadata": {
        "colab": {
          "base_uri": "https://localhost:8080/"
        },
        "id": "7ySXGeVyA_SK",
        "outputId": "8f057e66-1bbe-49c9-c627-7006b30d7c53"
      },
      "execution_count": 61,
      "outputs": [
        {
          "output_type": "stream",
          "name": "stdout",
          "text": [
            "ificial\n"
          ]
        }
      ]
    },
    {
      "cell_type": "code",
      "source": [
        "#5)word = \"Code\" yaradın. Tərsinə çevirin və nəticəni çap edin.\n",
        "word = \"Code\"\n",
        "print(word[::-1])"
      ],
      "metadata": {
        "colab": {
          "base_uri": "https://localhost:8080/"
        },
        "id": "1ibvrqivBFXD",
        "outputId": "c71e9f58-0ce8-431e-b2db-444445965521"
      },
      "execution_count": 62,
      "outputs": [
        {
          "output_type": "stream",
          "name": "stdout",
          "text": [
            "edoC\n"
          ]
        }
      ]
    },
    {
      "cell_type": "code",
      "source": [
        "#6)s = \"abcdefgh\" yaradın. Hər ikinci simvolu alın və çap edin.\n",
        "s = \"abcdefgh\"\n",
        "print(s[::2])"
      ],
      "metadata": {
        "colab": {
          "base_uri": "https://localhost:8080/"
        },
        "id": "egy9qgbXBJwR",
        "outputId": "e55d34e9-f59a-4309-dead-bdcbb06759e7"
      },
      "execution_count": 63,
      "outputs": [
        {
          "output_type": "stream",
          "name": "stdout",
          "text": [
            "aceg\n"
          ]
        }
      ]
    },
    {
      "cell_type": "code",
      "source": [
        "#7)text = \"data\" yaradın. Onu bir sətrlik kodla böyük hərflərə və kiçik hərflərə çevirib çap edin.\n",
        "text = \"data\"\n",
        "print(text.upper())\n",
        "print(text.lower())"
      ],
      "metadata": {
        "colab": {
          "base_uri": "https://localhost:8080/"
        },
        "id": "ORQxSOD7BUIb",
        "outputId": "11978060-1678-4727-a450-9a25262d9a8d"
      },
      "execution_count": 64,
      "outputs": [
        {
          "output_type": "stream",
          "name": "stdout",
          "text": [
            "DATA\n",
            "data\n"
          ]
        }
      ]
    },
    {
      "cell_type": "code",
      "source": [
        "#8)s = \"Python-R-Java\" yaradın. \"-\" ilə ayırın (split(\"-\")) və nəticəni çap edin.\n",
        "s = \"Python-R-Java\"\n",
        "print(s.split(\"-\"))"
      ],
      "metadata": {
        "colab": {
          "base_uri": "https://localhost:8080/"
        },
        "id": "8alEl8SHBetD",
        "outputId": "2607ff13-a988-4cea-9605-9a8d3b81c63a"
      },
      "execution_count": 65,
      "outputs": [
        {
          "output_type": "stream",
          "name": "stdout",
          "text": [
            "['Python', 'R', 'Java']\n"
          ]
        }
      ]
    },
    {
      "cell_type": "code",
      "source": [
        "#9)ad = \"Ayxan\" və yaş = 25 yaradın. f-string ilə \"Ayxan 25 yaşındadır\" çap edin.\n",
        "ad = \"Ayxan\"\n",
        "yaş = 25\n",
        "print(f\"{ad} {yaş} yaşındadır\")\n"
      ],
      "metadata": {
        "colab": {
          "base_uri": "https://localhost:8080/"
        },
        "id": "zRw-sRcsBm3X",
        "outputId": "cccaed2f-0d2b-4feb-bb69-fb35af5acd9f"
      },
      "execution_count": 66,
      "outputs": [
        {
          "output_type": "stream",
          "name": "stdout",
          "text": [
            "Ayxan 25 yaşındadır\n"
          ]
        }
      ]
    },
    {
      "cell_type": "code",
      "source": [
        "#10)s = \"salam-dunya\" yaradın. \"-\"ni boşluqla əvəz edin və nəticəni çap edin.\n",
        "s = \"salam-dunya\"\n",
        "print(s.replace(\"-\", \" \"))\n"
      ],
      "metadata": {
        "colab": {
          "base_uri": "https://localhost:8080/"
        },
        "id": "_eTCVrXmB-Ga",
        "outputId": "08fe7bc7-d545-4dc4-82a9-edc227a86364"
      },
      "execution_count": 67,
      "outputs": [
        {
          "output_type": "stream",
          "name": "stdout",
          "text": [
            "salam dunya\n"
          ]
        }
      ]
    },
    {
      "cell_type": "code",
      "source": [
        "#1) 5, 10, 15, 20 rəqəmlərindən ibarət “rəqəmlər” adlı list/vector yaradın\n",
        "rəqəmlər = [5, 10, 15, 20]\n",
        "print(rəqəmlər)"
      ],
      "metadata": {
        "id": "IMQ44udNCEBO",
        "colab": {
          "base_uri": "https://localhost:8080/"
        },
        "outputId": "b0e369ab-765a-4dd4-8801-77176b9ec0fe"
      },
      "execution_count": 68,
      "outputs": [
        {
          "output_type": "stream",
          "name": "stdout",
          "text": [
            "[5, 10, 15, 20]\n"
          ]
        }
      ]
    },
    {
      "cell_type": "code",
      "source": [
        "#2) “rəqəmlər” listinin/vectorunun uzunluğunu tapın\n",
        "rəqəmlər = [5, 10, 15, 20]\n",
        "uzunluq = len(rəqəmlər)\n",
        "print(uzunluq)"
      ],
      "metadata": {
        "colab": {
          "base_uri": "https://localhost:8080/"
        },
        "id": "RJX4ZDwHZXjM",
        "outputId": "020d4b8f-2922-46f6-bfec-2f28b12b59c6"
      },
      "execution_count": 69,
      "outputs": [
        {
          "output_type": "stream",
          "name": "stdout",
          "text": [
            "4\n"
          ]
        }
      ]
    },
    {
      "cell_type": "code",
      "source": [
        "#3) “rəqəmlər” listinə/vectoruna 25 elementini əlavə edin\n",
        "rəqəmlər.append(25)\n",
        "print(rəqəmlər)"
      ],
      "metadata": {
        "colab": {
          "base_uri": "https://localhost:8080/"
        },
        "id": "0MLwEbsQZiz5",
        "outputId": "3391ae6e-ae8c-4dce-bff3-700bab9f4c43"
      },
      "execution_count": 70,
      "outputs": [
        {
          "output_type": "stream",
          "name": "stdout",
          "text": [
            "[5, 10, 15, 20, 25]\n"
          ]
        }
      ]
    },
    {
      "cell_type": "code",
      "source": [
        "#4) “rəqəmlər” listinin/vectorunun 2-ci indeksinə 12 elementini əlavə edin\n",
        "rəqəmlər.insert(2, 12)\n",
        "print(rəqəmlər)"
      ],
      "metadata": {
        "colab": {
          "base_uri": "https://localhost:8080/"
        },
        "id": "yizkv8X_Zni6",
        "outputId": "6f82412c-c294-4ee9-e223-68a96e78fa7c"
      },
      "execution_count": 71,
      "outputs": [
        {
          "output_type": "stream",
          "name": "stdout",
          "text": [
            "[5, 10, 12, 15, 20, 25]\n"
          ]
        }
      ]
    },
    {
      "cell_type": "code",
      "source": [
        "#5) 1, 2, 3 və 4, 5, 6 listlərini/vectorlarını birləşdirin\n",
        "a = [1, 2, 3]\n",
        "b = [4, 5, 6]\n",
        "AB = a + b\n",
        "print(AB)"
      ],
      "metadata": {
        "colab": {
          "base_uri": "https://localhost:8080/"
        },
        "id": "8tdp1mtOZraa",
        "outputId": "48f4d11d-cfc9-4d15-cd80-92302484ea54"
      },
      "execution_count": 72,
      "outputs": [
        {
          "output_type": "stream",
          "name": "stdout",
          "text": [
            "[1, 2, 3, 4, 5, 6]\n"
          ]
        }
      ]
    },
    {
      "cell_type": "code",
      "source": [
        "#6) “rəqəmlər” listindən/vectorundan 2-ci və 3-cü elementləri seçin\n",
        "a = rəqəmlər[2:4]\n",
        "print(a)"
      ],
      "metadata": {
        "colab": {
          "base_uri": "https://localhost:8080/"
        },
        "id": "RDbJ9r9sZ414",
        "outputId": "376175e7-9566-4f3b-80c2-a048e7144001"
      },
      "execution_count": 73,
      "outputs": [
        {
          "output_type": "stream",
          "name": "stdout",
          "text": [
            "[12, 15]\n"
          ]
        }
      ]
    },
    {
      "cell_type": "code",
      "source": [
        "#7) “rəqəmlər” listinin/vectorunun ilk elementini 50 ilə əvəz edin\n",
        "rəqəmlər[0] = 50\n",
        "print(rəqəmlər)"
      ],
      "metadata": {
        "colab": {
          "base_uri": "https://localhost:8080/"
        },
        "id": "GfzmSEFYaLNa",
        "outputId": "f37cb9b1-597c-49da-85f9-08da2b69dbc2"
      },
      "execution_count": 74,
      "outputs": [
        {
          "output_type": "stream",
          "name": "stdout",
          "text": [
            "[50, 10, 12, 15, 20, 25]\n"
          ]
        }
      ]
    },
    {
      "cell_type": "code",
      "source": [
        "#8) “rəqəmlər” listində/vectorunda 19 elementinin olub-olmadığını yoxlayın\n",
        "A = 19 in rəqəmlər\n",
        "print(A)"
      ],
      "metadata": {
        "colab": {
          "base_uri": "https://localhost:8080/"
        },
        "id": "HYc-Q5-9aPHa",
        "outputId": "95c6c622-bd60-49a9-aeb7-31f37c3b89f7"
      },
      "execution_count": 75,
      "outputs": [
        {
          "output_type": "stream",
          "name": "stdout",
          "text": [
            "False\n"
          ]
        }
      ]
    },
    {
      "cell_type": "code",
      "source": [
        "#9) \"a\", \"b\", \"a\", \"c\" listində/vectorunda \"a\" elementinin neçə dəfə təkrarlandığını tapın\n",
        "List_1 = [\"a\", \"b\", \"a\", \"c\"]\n",
        "C = List_1.count(\"a\")\n",
        "print(C)"
      ],
      "metadata": {
        "colab": {
          "base_uri": "https://localhost:8080/"
        },
        "id": "9TKxz4J5ah8p",
        "outputId": "e560a3c1-0ef5-4aad-963a-8493347d6ad6"
      },
      "execution_count": 76,
      "outputs": [
        {
          "output_type": "stream",
          "name": "stdout",
          "text": [
            "2\n"
          ]
        }
      ]
    },
    {
      "cell_type": "code",
      "source": [
        "#10) \"x\", \"y\", \"x\", \"z\" listindən/vectorundan \"x\" elementlərini silin\n",
        "List_2 = [\"x\", \"y\", \"x\", \"z\"]\n",
        "while \"x\" in List_2:\n",
        "    List_2.remove(\"x\")\n",
        "print(List_2)"
      ],
      "metadata": {
        "colab": {
          "base_uri": "https://localhost:8080/"
        },
        "id": "m2pxETbpbEF7",
        "outputId": "1bb0e12e-78d8-4ad1-b8a8-bff19c965922"
      },
      "execution_count": 77,
      "outputs": [
        {
          "output_type": "stream",
          "name": "stdout",
          "text": [
            "['y', 'z']\n"
          ]
        }
      ]
    },
    {
      "cell_type": "code",
      "source": [
        "#11) 7, 2, 9, 1 listini/vectorunu azalan sırayla sıralayın\n",
        "list_3 = [7, 2, 9, 1]\n",
        "list_3.sort(reverse=True)\n",
        "print(list_3)"
      ],
      "metadata": {
        "colab": {
          "base_uri": "https://localhost:8080/"
        },
        "id": "R84zL4YHbtdq",
        "outputId": "ba4addff-1921-4f8e-dffa-a891d9c60d3a"
      },
      "execution_count": 78,
      "outputs": [
        {
          "output_type": "stream",
          "name": "stdout",
          "text": [
            "[9, 7, 2, 1]\n"
          ]
        }
      ]
    },
    {
      "cell_type": "code",
      "source": [
        "#12) “rəqəmlər” listindən/vectorundan 10-dan böyük elementləri seçin\n",
        "böyük_elementlər = [x for x in rəqəmlər if x > 10]\n",
        "print(böyük_elementlər)"
      ],
      "metadata": {
        "colab": {
          "base_uri": "https://localhost:8080/"
        },
        "id": "coDMS-2WcqHr",
        "outputId": "11a830db-3bf1-4bbe-b0a9-6e8d07d7bdeb"
      },
      "execution_count": 79,
      "outputs": [
        {
          "output_type": "stream",
          "name": "stdout",
          "text": [
            "[50, 12, 15, 20, 25]\n"
          ]
        }
      ]
    },
    {
      "cell_type": "code",
      "source": [
        "#1) 10, 20, 30, 40 elementlərindən ibarət s1 adlı series/vector yaradın\n",
        "import pandas as pd\n",
        "s1 = pd.Series([10, 20, 30, 40])"
      ],
      "metadata": {
        "id": "h9i_vjMIc0Lo"
      },
      "execution_count": 80,
      "outputs": []
    },
    {
      "cell_type": "code",
      "source": [
        "# 2) s1-ə 'w', 'x', 'y', 'z' indekslərini təyin edin\n",
        "s1.index = ['w', 'x', 'y', 'z']"
      ],
      "metadata": {
        "id": "HA8wngYOyShd"
      },
      "execution_count": 81,
      "outputs": []
    },
    {
      "cell_type": "code",
      "source": [
        "# 3) Python: {'p': 5, 'q': 10, 'r': 15} dictionary-dən s2 adlı Series yaradın\n",
        "# R: list(p = 5, q = 10, r = 15) listindən v2 adlı named vektor yaradın\n",
        "s2 = pd.Series({'p': 5, 'q': 10, 'r': 15})"
      ],
      "metadata": {
        "id": "TeiMzijlyfsZ"
      },
      "execution_count": 82,
      "outputs": []
    },
    {
      "cell_type": "code",
      "source": [
        "# 4) s2-dən 'q' indeksli elementi seçin\n",
        "print(s2['q'])"
      ],
      "metadata": {
        "colab": {
          "base_uri": "https://localhost:8080/"
        },
        "id": "1WpTuyQ4yiWV",
        "outputId": "4d9753a0-8a34-4940-ea25-eda68c0c8a80"
      },
      "execution_count": 83,
      "outputs": [
        {
          "output_type": "stream",
          "name": "stdout",
          "text": [
            "10\n"
          ]
        }
      ]
    },
    {
      "cell_type": "code",
      "source": [
        "# 5) s1-dən 25-dən böyük elementləri seçin\n",
        "print(s1[s1 > 25])"
      ],
      "metadata": {
        "colab": {
          "base_uri": "https://localhost:8080/"
        },
        "id": "eEb1HBQbyx8q",
        "outputId": "721a71cc-7b0a-4835-fa23-a78c3eb531fb"
      },
      "execution_count": 84,
      "outputs": [
        {
          "output_type": "stream",
          "name": "stdout",
          "text": [
            "y    30\n",
            "z    40\n",
            "dtype: int64\n"
          ]
        }
      ]
    },
    {
      "cell_type": "code",
      "source": [
        "# 6) s1-də 20-dən böyük elementləri 10-a bölün\n",
        "print(s1[s1 > 20] / 10)"
      ],
      "metadata": {
        "colab": {
          "base_uri": "https://localhost:8080/"
        },
        "id": "4DayUCZ2y2Sb",
        "outputId": "f1a74044-dc82-437a-cb74-3093dfb8afbf"
      },
      "execution_count": 85,
      "outputs": [
        {
          "output_type": "stream",
          "name": "stdout",
          "text": [
            "y    3.0\n",
            "z    4.0\n",
            "dtype: float64\n"
          ]
        }
      ]
    },
    {
      "cell_type": "code",
      "source": [
        "# 7) ((1, 2), (3, 4)) listindən/vectorundan df1 adlı dataframe yaradın\n",
        "df1 = pd.DataFrame([(1, 2), (3, 4)])"
      ],
      "metadata": {
        "id": "8clKfHdAy8Tj"
      },
      "execution_count": 86,
      "outputs": []
    },
    {
      "cell_type": "code",
      "source": [
        "# 8) df1-ə ('r1', 'r2') sətir və ('c1', 'c2') sütun adlarını təyin edin\n",
        "df1.index = ['r1', 'r2']\n",
        "df1.columns = ['c1', 'c2']"
      ],
      "metadata": {
        "id": "txTczkA1zFaw"
      },
      "execution_count": 87,
      "outputs": []
    },
    {
      "cell_type": "code",
      "source": [
        "# 9) Python: {'A': [1, 2], 'B': [3, 4]} dictionary-dən df2 yaradın\n",
        "df2 = pd.DataFrame({'A': [1, 2], 'B': [3, 4]})"
      ],
      "metadata": {
        "id": "JeTXDY8HzLe3"
      },
      "execution_count": 88,
      "outputs": []
    },
    {
      "cell_type": "code",
      "source": [
        "# 10) df2-də 'A' sütunu 1-dən böyük olan sətirləri seçin\n",
        "print(df2[df2['A'] > 1])"
      ],
      "metadata": {
        "colab": {
          "base_uri": "https://localhost:8080/"
        },
        "id": "9kM1i3_WzQQ0",
        "outputId": "e204d199-44f8-4a2d-fd70-51a31b03f2ec"
      },
      "execution_count": 89,
      "outputs": [
        {
          "output_type": "stream",
          "name": "stdout",
          "text": [
            "   A  B\n",
            "1  2  4\n"
          ]
        }
      ]
    }
  ]
}